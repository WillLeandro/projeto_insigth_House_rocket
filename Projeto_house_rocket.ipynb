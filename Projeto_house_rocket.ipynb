{
  "nbformat": 4,
  "nbformat_minor": 0,
  "metadata": {
    "colab": {
      "name": "Projeto_house_rokt.ipynb",
      "provenance": [],
      "collapsed_sections": [],
      "mount_file_id": "1kLQn15XNLgKrS0Ab64vIXpfGLBTYSa58",
      "authorship_tag": "ABX9TyOLD89hJjDgh90PI0q9VJ4K",
      "include_colab_link": true
    },
    "kernelspec": {
      "name": "python3",
      "display_name": "Python 3"
    },
    "language_info": {
      "name": "python"
    }
  },
  "cells": [
    {
      "cell_type": "markdown",
      "metadata": {
        "id": "view-in-github",
        "colab_type": "text"
      },
      "source": [
        "<a href=\"https://colab.research.google.com/github/WillLeandro/projeto_insigth_House_rocket/blob/main/Projeto_house_rokt.ipynb\" target=\"_parent\"><img src=\"https://colab.research.google.com/assets/colab-badge.svg\" alt=\"Open In Colab\"/></a>"
      ]
    },
    {
      "cell_type": "markdown",
      "source": [
        "## **1 - Bibliotecas**"
      ],
      "metadata": {
        "id": "jsBX5023M3gt"
      }
    },
    {
      "cell_type": "code",
      "source": [
        "import pandas as pd\n",
        "import numpy as np\n",
        "import seaborn as sns"
      ],
      "metadata": {
        "id": "rUjtC9NDNXRh"
      },
      "execution_count": 257,
      "outputs": []
    },
    {
      "cell_type": "markdown",
      "source": [
        "## **2 - Dados**"
      ],
      "metadata": {
        "id": "_z6_VkXlVNsm"
      }
    },
    {
      "cell_type": "markdown",
      "source": [
        "**2.1 - Importação dos dados**"
      ],
      "metadata": {
        "id": "95_uNlAyVYU2"
      }
    },
    {
      "cell_type": "code",
      "source": [
        "df = pd. read_csv('/content/drive/MyDrive/kc_house_data.csv')"
      ],
      "metadata": {
        "id": "CdSrBceXONhn"
      },
      "execution_count": 138,
      "outputs": []
    },
    {
      "cell_type": "markdown",
      "source": [
        "**2.2 - Dimensões e tipos das varáveis**"
      ],
      "metadata": {
        "id": "5EqqcwDQVjTt"
      }
    },
    {
      "cell_type": "code",
      "source": [
        "# dimensão\n",
        "print(f'Total de linhas: {df.shape[0]}\\n Total de Colunas: {df.shape[1]}\\n\\n')\n",
        "\n",
        "# tipo dos dados\n",
        "df.dtypes"
      ],
      "metadata": {
        "colab": {
          "base_uri": "https://localhost:8080/"
        },
        "id": "BPvw9wYROQ3I",
        "outputId": "9cca0910-cac3-4686-dd1a-922d18cc37dc"
      },
      "execution_count": 139,
      "outputs": [
        {
          "output_type": "stream",
          "name": "stdout",
          "text": [
            "Total de linhas: 21613\n",
            " Total de Colunas: 21\n",
            "\n",
            "\n"
          ]
        },
        {
          "output_type": "execute_result",
          "data": {
            "text/plain": [
              "id                 int64\n",
              "date              object\n",
              "price            float64\n",
              "bedrooms           int64\n",
              "bathrooms        float64\n",
              "sqft_living        int64\n",
              "sqft_lot           int64\n",
              "floors           float64\n",
              "waterfront         int64\n",
              "view               int64\n",
              "condition          int64\n",
              "grade              int64\n",
              "sqft_above         int64\n",
              "sqft_basement      int64\n",
              "yr_built           int64\n",
              "yr_renovated       int64\n",
              "zipcode            int64\n",
              "lat              float64\n",
              "long             float64\n",
              "sqft_living15      int64\n",
              "sqft_lot15         int64\n",
              "dtype: object"
            ]
          },
          "metadata": {},
          "execution_count": 139
        }
      ]
    },
    {
      "cell_type": "markdown",
      "source": [
        "**2.3 - Transformando os dados**"
      ],
      "metadata": {
        "id": "nQaGs4pKWECy"
      }
    },
    {
      "cell_type": "code",
      "source": [
        "# transformando coluna date, de object para datetime\n",
        "df['date'] = pd.to_datetime(df['date'])\n"
      ],
      "metadata": {
        "id": "8-Imyu9YOS5Y"
      },
      "execution_count": 140,
      "outputs": []
    },
    {
      "cell_type": "markdown",
      "source": [
        "**2.4 - Limpeza dos dados**"
      ],
      "metadata": {
        "id": "I2JZc5EeXJkM"
      }
    },
    {
      "cell_type": "code",
      "source": [
        "#  IDs duplicados\n",
        "print(  'Total de IDs {}'.format( len( df['id'].unique().tolist() ) ) )\n",
        "\n",
        "# Ordenando e verificando repetição dos IDs\n",
        "df.sort_values('id').head()"
      ],
      "metadata": {
        "colab": {
          "base_uri": "https://localhost:8080/",
          "height": 375
        },
        "id": "7KmOqZG8Pdju",
        "outputId": "26fcf864-ae1c-4e40-9931-3af14ddba5ad"
      },
      "execution_count": 141,
      "outputs": [
        {
          "output_type": "stream",
          "name": "stdout",
          "text": [
            "Total de IDs 21436\n"
          ]
        },
        {
          "output_type": "execute_result",
          "data": {
            "text/html": [
              "\n",
              "  <div id=\"df-a6b014e6-b8f9-4cfb-baa1-4485bd46b003\">\n",
              "    <div class=\"colab-df-container\">\n",
              "      <div>\n",
              "<style scoped>\n",
              "    .dataframe tbody tr th:only-of-type {\n",
              "        vertical-align: middle;\n",
              "    }\n",
              "\n",
              "    .dataframe tbody tr th {\n",
              "        vertical-align: top;\n",
              "    }\n",
              "\n",
              "    .dataframe thead th {\n",
              "        text-align: right;\n",
              "    }\n",
              "</style>\n",
              "<table border=\"1\" class=\"dataframe\">\n",
              "  <thead>\n",
              "    <tr style=\"text-align: right;\">\n",
              "      <th></th>\n",
              "      <th>id</th>\n",
              "      <th>date</th>\n",
              "      <th>price</th>\n",
              "      <th>bedrooms</th>\n",
              "      <th>bathrooms</th>\n",
              "      <th>sqft_living</th>\n",
              "      <th>sqft_lot</th>\n",
              "      <th>floors</th>\n",
              "      <th>waterfront</th>\n",
              "      <th>view</th>\n",
              "      <th>condition</th>\n",
              "      <th>grade</th>\n",
              "      <th>sqft_above</th>\n",
              "      <th>sqft_basement</th>\n",
              "      <th>yr_built</th>\n",
              "      <th>yr_renovated</th>\n",
              "      <th>zipcode</th>\n",
              "      <th>lat</th>\n",
              "      <th>long</th>\n",
              "      <th>sqft_living15</th>\n",
              "      <th>sqft_lot15</th>\n",
              "    </tr>\n",
              "  </thead>\n",
              "  <tbody>\n",
              "    <tr>\n",
              "      <th>2497</th>\n",
              "      <td>1000102</td>\n",
              "      <td>2015-04-22</td>\n",
              "      <td>300000.00</td>\n",
              "      <td>6</td>\n",
              "      <td>3.00</td>\n",
              "      <td>2400</td>\n",
              "      <td>9373</td>\n",
              "      <td>2.00</td>\n",
              "      <td>0</td>\n",
              "      <td>0</td>\n",
              "      <td>3</td>\n",
              "      <td>7</td>\n",
              "      <td>2400</td>\n",
              "      <td>0</td>\n",
              "      <td>1991</td>\n",
              "      <td>0</td>\n",
              "      <td>98002</td>\n",
              "      <td>47.33</td>\n",
              "      <td>-122.21</td>\n",
              "      <td>2060</td>\n",
              "      <td>7316</td>\n",
              "    </tr>\n",
              "    <tr>\n",
              "      <th>2496</th>\n",
              "      <td>1000102</td>\n",
              "      <td>2014-09-16</td>\n",
              "      <td>280000.00</td>\n",
              "      <td>6</td>\n",
              "      <td>3.00</td>\n",
              "      <td>2400</td>\n",
              "      <td>9373</td>\n",
              "      <td>2.00</td>\n",
              "      <td>0</td>\n",
              "      <td>0</td>\n",
              "      <td>3</td>\n",
              "      <td>7</td>\n",
              "      <td>2400</td>\n",
              "      <td>0</td>\n",
              "      <td>1991</td>\n",
              "      <td>0</td>\n",
              "      <td>98002</td>\n",
              "      <td>47.33</td>\n",
              "      <td>-122.21</td>\n",
              "      <td>2060</td>\n",
              "      <td>7316</td>\n",
              "    </tr>\n",
              "    <tr>\n",
              "      <th>6735</th>\n",
              "      <td>1200019</td>\n",
              "      <td>2014-05-08</td>\n",
              "      <td>647500.00</td>\n",
              "      <td>4</td>\n",
              "      <td>1.75</td>\n",
              "      <td>2060</td>\n",
              "      <td>26036</td>\n",
              "      <td>1.00</td>\n",
              "      <td>0</td>\n",
              "      <td>0</td>\n",
              "      <td>4</td>\n",
              "      <td>8</td>\n",
              "      <td>1160</td>\n",
              "      <td>900</td>\n",
              "      <td>1947</td>\n",
              "      <td>0</td>\n",
              "      <td>98166</td>\n",
              "      <td>47.44</td>\n",
              "      <td>-122.35</td>\n",
              "      <td>2590</td>\n",
              "      <td>21891</td>\n",
              "    </tr>\n",
              "    <tr>\n",
              "      <th>8411</th>\n",
              "      <td>1200021</td>\n",
              "      <td>2014-08-11</td>\n",
              "      <td>400000.00</td>\n",
              "      <td>3</td>\n",
              "      <td>1.00</td>\n",
              "      <td>1460</td>\n",
              "      <td>43000</td>\n",
              "      <td>1.00</td>\n",
              "      <td>0</td>\n",
              "      <td>0</td>\n",
              "      <td>3</td>\n",
              "      <td>7</td>\n",
              "      <td>1460</td>\n",
              "      <td>0</td>\n",
              "      <td>1952</td>\n",
              "      <td>0</td>\n",
              "      <td>98166</td>\n",
              "      <td>47.44</td>\n",
              "      <td>-122.35</td>\n",
              "      <td>2250</td>\n",
              "      <td>20023</td>\n",
              "    </tr>\n",
              "    <tr>\n",
              "      <th>8809</th>\n",
              "      <td>2800031</td>\n",
              "      <td>2015-04-01</td>\n",
              "      <td>235000.00</td>\n",
              "      <td>3</td>\n",
              "      <td>1.00</td>\n",
              "      <td>1430</td>\n",
              "      <td>7599</td>\n",
              "      <td>1.50</td>\n",
              "      <td>0</td>\n",
              "      <td>0</td>\n",
              "      <td>4</td>\n",
              "      <td>6</td>\n",
              "      <td>1010</td>\n",
              "      <td>420</td>\n",
              "      <td>1930</td>\n",
              "      <td>0</td>\n",
              "      <td>98168</td>\n",
              "      <td>47.48</td>\n",
              "      <td>-122.27</td>\n",
              "      <td>1290</td>\n",
              "      <td>10320</td>\n",
              "    </tr>\n",
              "  </tbody>\n",
              "</table>\n",
              "</div>\n",
              "      <button class=\"colab-df-convert\" onclick=\"convertToInteractive('df-a6b014e6-b8f9-4cfb-baa1-4485bd46b003')\"\n",
              "              title=\"Convert this dataframe to an interactive table.\"\n",
              "              style=\"display:none;\">\n",
              "        \n",
              "  <svg xmlns=\"http://www.w3.org/2000/svg\" height=\"24px\"viewBox=\"0 0 24 24\"\n",
              "       width=\"24px\">\n",
              "    <path d=\"M0 0h24v24H0V0z\" fill=\"none\"/>\n",
              "    <path d=\"M18.56 5.44l.94 2.06.94-2.06 2.06-.94-2.06-.94-.94-2.06-.94 2.06-2.06.94zm-11 1L8.5 8.5l.94-2.06 2.06-.94-2.06-.94L8.5 2.5l-.94 2.06-2.06.94zm10 10l.94 2.06.94-2.06 2.06-.94-2.06-.94-.94-2.06-.94 2.06-2.06.94z\"/><path d=\"M17.41 7.96l-1.37-1.37c-.4-.4-.92-.59-1.43-.59-.52 0-1.04.2-1.43.59L10.3 9.45l-7.72 7.72c-.78.78-.78 2.05 0 2.83L4 21.41c.39.39.9.59 1.41.59.51 0 1.02-.2 1.41-.59l7.78-7.78 2.81-2.81c.8-.78.8-2.07 0-2.86zM5.41 20L4 18.59l7.72-7.72 1.47 1.35L5.41 20z\"/>\n",
              "  </svg>\n",
              "      </button>\n",
              "      \n",
              "  <style>\n",
              "    .colab-df-container {\n",
              "      display:flex;\n",
              "      flex-wrap:wrap;\n",
              "      gap: 12px;\n",
              "    }\n",
              "\n",
              "    .colab-df-convert {\n",
              "      background-color: #E8F0FE;\n",
              "      border: none;\n",
              "      border-radius: 50%;\n",
              "      cursor: pointer;\n",
              "      display: none;\n",
              "      fill: #1967D2;\n",
              "      height: 32px;\n",
              "      padding: 0 0 0 0;\n",
              "      width: 32px;\n",
              "    }\n",
              "\n",
              "    .colab-df-convert:hover {\n",
              "      background-color: #E2EBFA;\n",
              "      box-shadow: 0px 1px 2px rgba(60, 64, 67, 0.3), 0px 1px 3px 1px rgba(60, 64, 67, 0.15);\n",
              "      fill: #174EA6;\n",
              "    }\n",
              "\n",
              "    [theme=dark] .colab-df-convert {\n",
              "      background-color: #3B4455;\n",
              "      fill: #D2E3FC;\n",
              "    }\n",
              "\n",
              "    [theme=dark] .colab-df-convert:hover {\n",
              "      background-color: #434B5C;\n",
              "      box-shadow: 0px 1px 3px 1px rgba(0, 0, 0, 0.15);\n",
              "      filter: drop-shadow(0px 1px 2px rgba(0, 0, 0, 0.3));\n",
              "      fill: #FFFFFF;\n",
              "    }\n",
              "  </style>\n",
              "\n",
              "      <script>\n",
              "        const buttonEl =\n",
              "          document.querySelector('#df-a6b014e6-b8f9-4cfb-baa1-4485bd46b003 button.colab-df-convert');\n",
              "        buttonEl.style.display =\n",
              "          google.colab.kernel.accessAllowed ? 'block' : 'none';\n",
              "\n",
              "        async function convertToInteractive(key) {\n",
              "          const element = document.querySelector('#df-a6b014e6-b8f9-4cfb-baa1-4485bd46b003');\n",
              "          const dataTable =\n",
              "            await google.colab.kernel.invokeFunction('convertToInteractive',\n",
              "                                                     [key], {});\n",
              "          if (!dataTable) return;\n",
              "\n",
              "          const docLinkHtml = 'Like what you see? Visit the ' +\n",
              "            '<a target=\"_blank\" href=https://colab.research.google.com/notebooks/data_table.ipynb>data table notebook</a>'\n",
              "            + ' to learn more about interactive tables.';\n",
              "          element.innerHTML = '';\n",
              "          dataTable['output_type'] = 'display_data';\n",
              "          await google.colab.output.renderOutput(dataTable, element);\n",
              "          const docLink = document.createElement('div');\n",
              "          docLink.innerHTML = docLinkHtml;\n",
              "          element.appendChild(docLink);\n",
              "        }\n",
              "      </script>\n",
              "    </div>\n",
              "  </div>\n",
              "  "
            ],
            "text/plain": [
              "           id       date     price  ...    long  sqft_living15  sqft_lot15\n",
              "2497  1000102 2015-04-22 300000.00  ... -122.21           2060        7316\n",
              "2496  1000102 2014-09-16 280000.00  ... -122.21           2060        7316\n",
              "6735  1200019 2014-05-08 647500.00  ... -122.35           2590       21891\n",
              "8411  1200021 2014-08-11 400000.00  ... -122.35           2250       20023\n",
              "8809  2800031 2015-04-01 235000.00  ... -122.27           1290       10320\n",
              "\n",
              "[5 rows x 21 columns]"
            ]
          },
          "metadata": {},
          "execution_count": 141
        }
      ]
    },
    {
      "cell_type": "code",
      "source": [
        "# retirando IDs duplicados\n",
        "df = df.drop_duplicates( subset = ['id'], keep = 'last' )\n",
        "\n",
        "# Ordenando e verificando a reirada dos IDs duplicados\n",
        "df.sort_values('id').head()"
      ],
      "metadata": {
        "colab": {
          "base_uri": "https://localhost:8080/",
          "height": 356
        },
        "id": "dhzqv3WCXYlC",
        "outputId": "e04b3bad-2916-4d90-8a6b-2b18898b9139"
      },
      "execution_count": 142,
      "outputs": [
        {
          "output_type": "execute_result",
          "data": {
            "text/html": [
              "\n",
              "  <div id=\"df-83663e03-9b8c-4688-9d90-8a6a72f5a012\">\n",
              "    <div class=\"colab-df-container\">\n",
              "      <div>\n",
              "<style scoped>\n",
              "    .dataframe tbody tr th:only-of-type {\n",
              "        vertical-align: middle;\n",
              "    }\n",
              "\n",
              "    .dataframe tbody tr th {\n",
              "        vertical-align: top;\n",
              "    }\n",
              "\n",
              "    .dataframe thead th {\n",
              "        text-align: right;\n",
              "    }\n",
              "</style>\n",
              "<table border=\"1\" class=\"dataframe\">\n",
              "  <thead>\n",
              "    <tr style=\"text-align: right;\">\n",
              "      <th></th>\n",
              "      <th>id</th>\n",
              "      <th>date</th>\n",
              "      <th>price</th>\n",
              "      <th>bedrooms</th>\n",
              "      <th>bathrooms</th>\n",
              "      <th>sqft_living</th>\n",
              "      <th>sqft_lot</th>\n",
              "      <th>floors</th>\n",
              "      <th>waterfront</th>\n",
              "      <th>view</th>\n",
              "      <th>condition</th>\n",
              "      <th>grade</th>\n",
              "      <th>sqft_above</th>\n",
              "      <th>sqft_basement</th>\n",
              "      <th>yr_built</th>\n",
              "      <th>yr_renovated</th>\n",
              "      <th>zipcode</th>\n",
              "      <th>lat</th>\n",
              "      <th>long</th>\n",
              "      <th>sqft_living15</th>\n",
              "      <th>sqft_lot15</th>\n",
              "    </tr>\n",
              "  </thead>\n",
              "  <tbody>\n",
              "    <tr>\n",
              "      <th>2497</th>\n",
              "      <td>1000102</td>\n",
              "      <td>2015-04-22</td>\n",
              "      <td>300000.00</td>\n",
              "      <td>6</td>\n",
              "      <td>3.00</td>\n",
              "      <td>2400</td>\n",
              "      <td>9373</td>\n",
              "      <td>2.00</td>\n",
              "      <td>0</td>\n",
              "      <td>0</td>\n",
              "      <td>3</td>\n",
              "      <td>7</td>\n",
              "      <td>2400</td>\n",
              "      <td>0</td>\n",
              "      <td>1991</td>\n",
              "      <td>0</td>\n",
              "      <td>98002</td>\n",
              "      <td>47.33</td>\n",
              "      <td>-122.21</td>\n",
              "      <td>2060</td>\n",
              "      <td>7316</td>\n",
              "    </tr>\n",
              "    <tr>\n",
              "      <th>6735</th>\n",
              "      <td>1200019</td>\n",
              "      <td>2014-05-08</td>\n",
              "      <td>647500.00</td>\n",
              "      <td>4</td>\n",
              "      <td>1.75</td>\n",
              "      <td>2060</td>\n",
              "      <td>26036</td>\n",
              "      <td>1.00</td>\n",
              "      <td>0</td>\n",
              "      <td>0</td>\n",
              "      <td>4</td>\n",
              "      <td>8</td>\n",
              "      <td>1160</td>\n",
              "      <td>900</td>\n",
              "      <td>1947</td>\n",
              "      <td>0</td>\n",
              "      <td>98166</td>\n",
              "      <td>47.44</td>\n",
              "      <td>-122.35</td>\n",
              "      <td>2590</td>\n",
              "      <td>21891</td>\n",
              "    </tr>\n",
              "    <tr>\n",
              "      <th>8411</th>\n",
              "      <td>1200021</td>\n",
              "      <td>2014-08-11</td>\n",
              "      <td>400000.00</td>\n",
              "      <td>3</td>\n",
              "      <td>1.00</td>\n",
              "      <td>1460</td>\n",
              "      <td>43000</td>\n",
              "      <td>1.00</td>\n",
              "      <td>0</td>\n",
              "      <td>0</td>\n",
              "      <td>3</td>\n",
              "      <td>7</td>\n",
              "      <td>1460</td>\n",
              "      <td>0</td>\n",
              "      <td>1952</td>\n",
              "      <td>0</td>\n",
              "      <td>98166</td>\n",
              "      <td>47.44</td>\n",
              "      <td>-122.35</td>\n",
              "      <td>2250</td>\n",
              "      <td>20023</td>\n",
              "    </tr>\n",
              "    <tr>\n",
              "      <th>8809</th>\n",
              "      <td>2800031</td>\n",
              "      <td>2015-04-01</td>\n",
              "      <td>235000.00</td>\n",
              "      <td>3</td>\n",
              "      <td>1.00</td>\n",
              "      <td>1430</td>\n",
              "      <td>7599</td>\n",
              "      <td>1.50</td>\n",
              "      <td>0</td>\n",
              "      <td>0</td>\n",
              "      <td>4</td>\n",
              "      <td>6</td>\n",
              "      <td>1010</td>\n",
              "      <td>420</td>\n",
              "      <td>1930</td>\n",
              "      <td>0</td>\n",
              "      <td>98168</td>\n",
              "      <td>47.48</td>\n",
              "      <td>-122.27</td>\n",
              "      <td>1290</td>\n",
              "      <td>10320</td>\n",
              "    </tr>\n",
              "    <tr>\n",
              "      <th>3557</th>\n",
              "      <td>3600057</td>\n",
              "      <td>2015-03-19</td>\n",
              "      <td>402500.00</td>\n",
              "      <td>4</td>\n",
              "      <td>2.00</td>\n",
              "      <td>1650</td>\n",
              "      <td>3504</td>\n",
              "      <td>1.00</td>\n",
              "      <td>0</td>\n",
              "      <td>0</td>\n",
              "      <td>3</td>\n",
              "      <td>7</td>\n",
              "      <td>760</td>\n",
              "      <td>890</td>\n",
              "      <td>1951</td>\n",
              "      <td>2013</td>\n",
              "      <td>98144</td>\n",
              "      <td>47.58</td>\n",
              "      <td>-122.29</td>\n",
              "      <td>1480</td>\n",
              "      <td>3504</td>\n",
              "    </tr>\n",
              "  </tbody>\n",
              "</table>\n",
              "</div>\n",
              "      <button class=\"colab-df-convert\" onclick=\"convertToInteractive('df-83663e03-9b8c-4688-9d90-8a6a72f5a012')\"\n",
              "              title=\"Convert this dataframe to an interactive table.\"\n",
              "              style=\"display:none;\">\n",
              "        \n",
              "  <svg xmlns=\"http://www.w3.org/2000/svg\" height=\"24px\"viewBox=\"0 0 24 24\"\n",
              "       width=\"24px\">\n",
              "    <path d=\"M0 0h24v24H0V0z\" fill=\"none\"/>\n",
              "    <path d=\"M18.56 5.44l.94 2.06.94-2.06 2.06-.94-2.06-.94-.94-2.06-.94 2.06-2.06.94zm-11 1L8.5 8.5l.94-2.06 2.06-.94-2.06-.94L8.5 2.5l-.94 2.06-2.06.94zm10 10l.94 2.06.94-2.06 2.06-.94-2.06-.94-.94-2.06-.94 2.06-2.06.94z\"/><path d=\"M17.41 7.96l-1.37-1.37c-.4-.4-.92-.59-1.43-.59-.52 0-1.04.2-1.43.59L10.3 9.45l-7.72 7.72c-.78.78-.78 2.05 0 2.83L4 21.41c.39.39.9.59 1.41.59.51 0 1.02-.2 1.41-.59l7.78-7.78 2.81-2.81c.8-.78.8-2.07 0-2.86zM5.41 20L4 18.59l7.72-7.72 1.47 1.35L5.41 20z\"/>\n",
              "  </svg>\n",
              "      </button>\n",
              "      \n",
              "  <style>\n",
              "    .colab-df-container {\n",
              "      display:flex;\n",
              "      flex-wrap:wrap;\n",
              "      gap: 12px;\n",
              "    }\n",
              "\n",
              "    .colab-df-convert {\n",
              "      background-color: #E8F0FE;\n",
              "      border: none;\n",
              "      border-radius: 50%;\n",
              "      cursor: pointer;\n",
              "      display: none;\n",
              "      fill: #1967D2;\n",
              "      height: 32px;\n",
              "      padding: 0 0 0 0;\n",
              "      width: 32px;\n",
              "    }\n",
              "\n",
              "    .colab-df-convert:hover {\n",
              "      background-color: #E2EBFA;\n",
              "      box-shadow: 0px 1px 2px rgba(60, 64, 67, 0.3), 0px 1px 3px 1px rgba(60, 64, 67, 0.15);\n",
              "      fill: #174EA6;\n",
              "    }\n",
              "\n",
              "    [theme=dark] .colab-df-convert {\n",
              "      background-color: #3B4455;\n",
              "      fill: #D2E3FC;\n",
              "    }\n",
              "\n",
              "    [theme=dark] .colab-df-convert:hover {\n",
              "      background-color: #434B5C;\n",
              "      box-shadow: 0px 1px 3px 1px rgba(0, 0, 0, 0.15);\n",
              "      filter: drop-shadow(0px 1px 2px rgba(0, 0, 0, 0.3));\n",
              "      fill: #FFFFFF;\n",
              "    }\n",
              "  </style>\n",
              "\n",
              "      <script>\n",
              "        const buttonEl =\n",
              "          document.querySelector('#df-83663e03-9b8c-4688-9d90-8a6a72f5a012 button.colab-df-convert');\n",
              "        buttonEl.style.display =\n",
              "          google.colab.kernel.accessAllowed ? 'block' : 'none';\n",
              "\n",
              "        async function convertToInteractive(key) {\n",
              "          const element = document.querySelector('#df-83663e03-9b8c-4688-9d90-8a6a72f5a012');\n",
              "          const dataTable =\n",
              "            await google.colab.kernel.invokeFunction('convertToInteractive',\n",
              "                                                     [key], {});\n",
              "          if (!dataTable) return;\n",
              "\n",
              "          const docLinkHtml = 'Like what you see? Visit the ' +\n",
              "            '<a target=\"_blank\" href=https://colab.research.google.com/notebooks/data_table.ipynb>data table notebook</a>'\n",
              "            + ' to learn more about interactive tables.';\n",
              "          element.innerHTML = '';\n",
              "          dataTable['output_type'] = 'display_data';\n",
              "          await google.colab.output.renderOutput(dataTable, element);\n",
              "          const docLink = document.createElement('div');\n",
              "          docLink.innerHTML = docLinkHtml;\n",
              "          element.appendChild(docLink);\n",
              "        }\n",
              "      </script>\n",
              "    </div>\n",
              "  </div>\n",
              "  "
            ],
            "text/plain": [
              "           id       date     price  ...    long  sqft_living15  sqft_lot15\n",
              "2497  1000102 2015-04-22 300000.00  ... -122.21           2060        7316\n",
              "6735  1200019 2014-05-08 647500.00  ... -122.35           2590       21891\n",
              "8411  1200021 2014-08-11 400000.00  ... -122.35           2250       20023\n",
              "8809  2800031 2015-04-01 235000.00  ... -122.27           1290       10320\n",
              "3557  3600057 2015-03-19 402500.00  ... -122.29           1480        3504\n",
              "\n",
              "[5 rows x 21 columns]"
            ]
          },
          "metadata": {},
          "execution_count": 142
        }
      ]
    },
    {
      "cell_type": "code",
      "source": [
        "# identificando outiliers nos atributos\n",
        "\n",
        "uni = df[['bedrooms','bathrooms','floors','waterfront','view','condition','grade']]\n",
        "\n",
        "for i in uni:\n",
        "  print(f'Atributo: {i}, - {df[i].unique().tolist()}')"
      ],
      "metadata": {
        "colab": {
          "base_uri": "https://localhost:8080/"
        },
        "id": "00y3xu1SZYyS",
        "outputId": "f1d046ff-e739-47ac-8f2f-4aa31904d950"
      },
      "execution_count": 143,
      "outputs": [
        {
          "output_type": "stream",
          "name": "stdout",
          "text": [
            "Atributo: bedrooms, - [3, 2, 4, 5, 1, 6, 7, 0, 8, 9, 11, 10, 33]\n",
            "Atributo: bathrooms, - [1.0, 2.25, 3.0, 2.0, 4.5, 1.5, 2.5, 1.75, 2.75, 3.25, 4.0, 3.5, 0.75, 4.75, 5.0, 4.25, 3.75, 0.0, 1.25, 5.25, 6.0, 0.5, 5.5, 6.75, 5.75, 8.0, 7.5, 7.75, 6.25, 6.5]\n",
            "Atributo: floors, - [1.0, 2.0, 1.5, 3.0, 2.5, 3.5]\n",
            "Atributo: waterfront, - [0, 1]\n",
            "Atributo: view, - [0, 3, 4, 2, 1]\n",
            "Atributo: condition, - [3, 5, 4, 1, 2]\n",
            "Atributo: grade, - [7, 6, 8, 11, 9, 5, 10, 12, 4, 3, 13, 1]\n"
          ]
        }
      ]
    },
    {
      "cell_type": "code",
      "source": [
        "# removendo um possível erro de digitação na coluna 'bedrooms'\n",
        "df.drop(df.loc[ df['bedrooms'] == 33 ].index, inplace=True )"
      ],
      "metadata": {
        "id": "QmyP6pM_dEI4"
      },
      "execution_count": 144,
      "outputs": []
    },
    {
      "cell_type": "markdown",
      "source": [
        "**2.3 - criando novas Features** "
      ],
      "metadata": {
        "id": "uZqX_tbZwcd0"
      }
    },
    {
      "cell_type": "code",
      "source": [
        "# criando colunas mês e ano\n",
        "df['year'] = df['date'].dt.year\n",
        "df['month'] = df['date'].dt.month\n",
        "\n",
        "# criando coluna 'porão\n",
        "df['basement'] = df['sqft_basement'].apply(lambda x: 'yes ' if x != 0 else 'no')\n",
        "\n",
        "# criando coluna renovated\n",
        "df['renovated'] = df['yr_renovated'].apply( lambda x: 'yes' if x > 0 else 'no')\n",
        "\n",
        "# criando coluna contru\n",
        "df['construction'] = df['yr_built'].apply( lambda x: '> 1955' if x >1955 else '< 1955' )\n",
        "\n",
        "# criando a coluna season\n",
        "df['season'] = df['month'].apply( lambda x: 'summer' if (x > 5 ) & (x < 8)  else \n",
        "                                            'spring' if (x > 2) & (x < 5)  else\n",
        "                                            'autumn' if (x > 8 ) & (x < 12 )  else 'winter' )\n",
        "\n",
        "                                        "
      ],
      "metadata": {
        "id": "xcKhGXUEwyvF"
      },
      "execution_count": 313,
      "outputs": []
    },
    {
      "cell_type": "code",
      "source": [
        "# checando valores NA\n",
        "df.isna().sum()"
      ],
      "metadata": {
        "colab": {
          "base_uri": "https://localhost:8080/"
        },
        "id": "zghT-V4W5Ij9",
        "outputId": "cfac6970-5d41-4a53-8ca2-e09f6c1a5cc7"
      },
      "execution_count": 314,
      "outputs": [
        {
          "output_type": "execute_result",
          "data": {
            "text/plain": [
              "id               0\n",
              "date             0\n",
              "price            0\n",
              "bedrooms         0\n",
              "bathrooms        0\n",
              "sqft_living      0\n",
              "sqft_lot         0\n",
              "floors           0\n",
              "waterfront       0\n",
              "view             0\n",
              "condition        0\n",
              "grade            0\n",
              "sqft_above       0\n",
              "sqft_basement    0\n",
              "yr_built         0\n",
              "yr_renovated     0\n",
              "zipcode          0\n",
              "lat              0\n",
              "long             0\n",
              "sqft_living15    0\n",
              "sqft_lot15       0\n",
              "year             0\n",
              "month            0\n",
              "basement         0\n",
              "renovated        0\n",
              "contruction      0\n",
              "banheiro         0\n",
              "season           0\n",
              "construction     0\n",
              "dtype: int64"
            ]
          },
          "metadata": {},
          "execution_count": 314
        }
      ]
    },
    {
      "cell_type": "markdown",
      "source": [
        "## **3 - Exploração dos dados**"
      ],
      "metadata": {
        "id": "HNNIZr7be8Aj"
      }
    },
    {
      "cell_type": "code",
      "source": [
        "df2 = df.copy()"
      ],
      "metadata": {
        "id": "nS59syPBVXEB"
      },
      "execution_count": 318,
      "outputs": []
    },
    {
      "cell_type": "markdown",
      "source": [
        "**3.1 - Estatísica descritiva**"
      ],
      "metadata": {
        "id": "wcBrzR5KfLoR"
      }
    },
    {
      "cell_type": "code",
      "source": [
        "num_atributos = df2.select_dtypes( include= ['int64','float64'] )\n",
        "num_atributos = num_atributos.iloc[: , 1:]\n",
        "num_atributos = num_atributos.drop(columns=['zipcode','lat','long'])\n",
        "\n",
        "# tendencia central: média e mediana\n",
        "media = pd.DataFrame( num_atributos.apply( np.mean, axis=0 ) )\n",
        "mediana = pd.DataFrame( num_atributos.apply( np.median, axis=0 ) )\n",
        "\n",
        "# tendencia descritiva: devio padrão, minimo e maximo\n",
        "std = pd.DataFrame( num_atributos.apply( np.std, axis=0 ) )\n",
        "min_ = pd.DataFrame( num_atributos.apply( np.min, axis=0 ) )\n",
        "max_ = pd.DataFrame( num_atributos.apply( np.max, axis=0 ) )\n",
        "\n",
        "atri = pd.concat(( max_, min_, media, mediana, std), axis=1).reset_index()\n",
        "atri.columns = ('atributos','maximo', 'minimo', 'media','mediana','std')\n",
        "print(atri)\n",
        "atri.hist();"
      ],
      "metadata": {
        "colab": {
          "base_uri": "https://localhost:8080/",
          "height": 628
        },
        "id": "LKffWG0leSkn",
        "outputId": "4f64f68a-0400-4584-8aee-33e25d7ff929"
      },
      "execution_count": 319,
      "outputs": [
        {
          "output_type": "stream",
          "name": "stdout",
          "text": [
            "        atributos     maximo   minimo     media   mediana       std\n",
            "0           price 7700000.00 75000.00 541645.37 450000.00 367314.32\n",
            "1        bedrooms      11.00     0.00      3.37      3.00      0.91\n",
            "2       bathrooms       8.00     0.00      2.12      2.25      0.77\n",
            "3     sqft_living   13540.00   290.00   2082.73   1920.00    919.14\n",
            "4        sqft_lot 1651359.00   520.00  15136.06   7614.00  41538.57\n",
            "5          floors       3.50     1.00      1.50      1.50      0.54\n",
            "6      waterfront       1.00     0.00      0.01      0.00      0.09\n",
            "7            view       4.00     0.00      0.24      0.00      0.77\n",
            "8       condition       5.00     1.00      3.41      3.00      0.65\n",
            "9           grade      13.00     1.00      7.66      7.00      1.17\n",
            "10     sqft_above    9410.00   290.00   1791.00   1560.00    829.01\n",
            "11  sqft_basement    4820.00     0.00    291.73      0.00    442.78\n",
            "12       yr_built    2015.00  1900.00   1971.10   1975.00     29.38\n",
            "13   yr_renovated    2015.00     0.00     84.73      0.00    402.43\n",
            "14  sqft_living15    6210.00   399.00   1988.35   1840.00    685.68\n",
            "15     sqft_lot15  871200.00   651.00  12786.34   7620.00  27375.41\n",
            "16           year    2015.00  2014.00   2014.33   2014.00      0.47\n",
            "17          month      12.00     1.00      6.56      6.00      3.12\n"
          ]
        },
        {
          "output_type": "display_data",
          "data": {
            "image/png": "[encoded data removed]",
            "text/plain": [
              "<Figure size 432x288 with 6 Axes>"
            ]
          },
          "metadata": {
            "needs_background": "light"
          }
        }
      ]
    },
    {
      "cell_type": "markdown",
      "source": [
        "**Correlção**"
      ],
      "metadata": {
        "id": "5G4feZsgD4xu"
      }
    },
    {
      "cell_type": "code",
      "source": [
        "matriz = np.triu( df2.corr() )\n",
        "\n",
        "sns.heatmap(df2.corr(), cmap = 'OrRd_r', square = True, annot = False, center = 0, mask = matriz)"
      ],
      "metadata": {
        "colab": {
          "base_uri": "https://localhost:8080/",
          "height": 347
        },
        "id": "wzFWVYXAXCA1",
        "outputId": "7aa7c292-6155-4920-d1f2-185731784947"
      },
      "execution_count": 320,
      "outputs": [
        {
          "output_type": "execute_result",
          "data": {
            "text/plain": [
              "<matplotlib.axes._subplots.AxesSubplot at 0x7fdf9432b710>"
            ]
          },
          "metadata": {},
          "execution_count": 320
        },
        {
          "output_type": "display_data",
          "data": {
            "image/png": "[encoded data removed]",
            "text/plain": [
              "<Figure size 432x288 with 2 Axes>"
            ]
          },
          "metadata": {
            "needs_background": "light"
          }
        }
      ]
    },
    {
      "cell_type": "markdown",
      "source": [
        "## **5 - Questão de negócio**\n",
        "  <br>\n"
      ],
      "metadata": {
        "id": "vH4s_-3KICYh"
      }
    },
    {
      "cell_type": "markdown",
      "source": [
        " **1 - Quais imóveis a House Rocket deveria comprar e por qual preço de compra?**"
      ],
      "metadata": {
        "id": "D6XIWTfDpkD6"
      }
    },
    {
      "cell_type": "code",
      "source": [
        "# calculando a mediana do preço por zipcode\n",
        "a = df2[['zipcode','price']].groupby('price').median().reset_index()"
      ],
      "metadata": {
        "id": "cdmsie97_T4C"
      },
      "execution_count": 321,
      "outputs": []
    },
    {
      "cell_type": "code",
      "source": [
        "# adicionando o calculo da mediana ao dataframe df2\n",
        "df3 = pd.merge(a, df2, on = 'zipcode', how = 'inner')\n",
        "\n",
        "# renomeando as colunas price_x para price_median e price_y para price\n",
        "df3 = df3.rename(columns= {'price_x': 'price_median', 'price_y': 'price'})"
      ],
      "metadata": {
        "colab": {
          "base_uri": "https://localhost:8080/"
        },
        "id": "3P-nTjM1_0zz",
        "outputId": "5fbf1e12-973c-43fb-b4d0-299cf9d400ac"
      },
      "execution_count": 322,
      "outputs": [
        {
          "output_type": "stream",
          "name": "stderr",
          "text": [
            "/usr/local/lib/python3.7/dist-packages/pandas/core/reshape/merge.py:1208: UserWarning: You are merging on int and float columns where the float values are not equal to their int representation\n",
            "  UserWarning,\n"
          ]
        }
      ]
    },
    {
      "cell_type": "code",
      "source": [
        "# Usando o método 'for' percebi que iria demorar muito para que a condição percorrece todas as linhas do df2, logo optei usar lambda para ter uma performace maior\n",
        "\"\"\"\n",
        "for i, linha in df3.iterrows():\n",
        "  if (linha['price_median'] >= linha['price'] ) & (linha['dondition'] < 3 ):\n",
        "    df3.loc[i,'pay'] = 'yes'\n",
        "  else:\n",
        "    df3.loc[i,'pay'] = 'no'\n",
        "\n",
        "\"\"\"\n",
        "\n"
      ],
      "metadata": {
        "colab": {
          "base_uri": "https://localhost:8080/",
          "height": 35
        },
        "id": "UEyK8mJWMocD",
        "outputId": "058b7b08-09d5-43fa-8a28-9e6a2d141cc0"
      },
      "execution_count": 154,
      "outputs": [
        {
          "output_type": "execute_result",
          "data": {
            "application/vnd.google.colaboratory.intrinsic+json": {
              "type": "string"
            },
            "text/plain": [
              "\"\\nfor i, linha in df3.iterrows():\\n  if (linha['price_median'] >= linha['price'] ) & (linha['dondition'] < 3 ):\\n    df3.loc[i,'pay'] = 'yes'\\n  else:\\n    df3.loc[i,'pay'] = 'no'\\n\\n\""
            ]
          },
          "metadata": {},
          "execution_count": 154
        }
      ]
    },
    {
      "cell_type": "code",
      "source": [
        "# classificando os imóveis em 'yes': comprar e 'no': não comprar\n",
        "df3['pay'] = df3.apply(lambda x:'yes' if (x['price_median'] >= x['price']) & (x['condition'] < 3) else 'no', axis=1)"
      ],
      "metadata": {
        "id": "JVLQ0MtNHeYB"
      },
      "execution_count": 323,
      "outputs": []
    },
    {
      "cell_type": "code",
      "source": [
        "# Casas para se comprar\n",
        "comprar = df3[ df3['pay'] == 'yes' ]\n",
        "comprar[['id','price','pay']]\n",
        "\n",
        "# Percebi que o resultado apareceu 'IDs' duplicados, logo irei remover os IDs duplicados na próximal linha de códgigos"
      ],
      "metadata": {
        "colab": {
          "base_uri": "https://localhost:8080/",
          "height": 424
        },
        "id": "h_oRRomf_1Mi",
        "outputId": "0e15ce7f-caaf-476d-c469-2b446a3db41b"
      },
      "execution_count": 324,
      "outputs": [
        {
          "output_type": "execute_result",
          "data": {
            "text/html": [
              "\n",
              "  <div id=\"df-54dd440b-c7b7-47ca-a514-27fde7751187\">\n",
              "    <div class=\"colab-df-container\">\n",
              "      <div>\n",
              "<style scoped>\n",
              "    .dataframe tbody tr th:only-of-type {\n",
              "        vertical-align: middle;\n",
              "    }\n",
              "\n",
              "    .dataframe tbody tr th {\n",
              "        vertical-align: top;\n",
              "    }\n",
              "\n",
              "    .dataframe thead th {\n",
              "        text-align: right;\n",
              "    }\n",
              "</style>\n",
              "<table border=\"1\" class=\"dataframe\">\n",
              "  <thead>\n",
              "    <tr style=\"text-align: right;\">\n",
              "      <th></th>\n",
              "      <th>id</th>\n",
              "      <th>price</th>\n",
              "      <th>pay</th>\n",
              "    </tr>\n",
              "  </thead>\n",
              "  <tbody>\n",
              "    <tr>\n",
              "      <th>4173</th>\n",
              "      <td>620079042</td>\n",
              "      <td>370000.00</td>\n",
              "      <td>yes</td>\n",
              "    </tr>\n",
              "    <tr>\n",
              "      <th>4407</th>\n",
              "      <td>620079042</td>\n",
              "      <td>370000.00</td>\n",
              "      <td>yes</td>\n",
              "    </tr>\n",
              "    <tr>\n",
              "      <th>4640</th>\n",
              "      <td>40000362</td>\n",
              "      <td>78000.00</td>\n",
              "      <td>yes</td>\n",
              "    </tr>\n",
              "    <tr>\n",
              "      <th>4904</th>\n",
              "      <td>40000362</td>\n",
              "      <td>78000.00</td>\n",
              "      <td>yes</td>\n",
              "    </tr>\n",
              "    <tr>\n",
              "      <th>4915</th>\n",
              "      <td>3028200080</td>\n",
              "      <td>81000.00</td>\n",
              "      <td>yes</td>\n",
              "    </tr>\n",
              "    <tr>\n",
              "      <th>...</th>\n",
              "      <td>...</td>\n",
              "      <td>...</td>\n",
              "      <td>...</td>\n",
              "    </tr>\n",
              "    <tr>\n",
              "      <th>1219630</th>\n",
              "      <td>9808700025</td>\n",
              "      <td>1500000.00</td>\n",
              "      <td>yes</td>\n",
              "    </tr>\n",
              "    <tr>\n",
              "      <th>1219931</th>\n",
              "      <td>2425700022</td>\n",
              "      <td>425000.00</td>\n",
              "      <td>yes</td>\n",
              "    </tr>\n",
              "    <tr>\n",
              "      <th>1219945</th>\n",
              "      <td>9808700025</td>\n",
              "      <td>1500000.00</td>\n",
              "      <td>yes</td>\n",
              "    </tr>\n",
              "    <tr>\n",
              "      <th>1220246</th>\n",
              "      <td>2425700022</td>\n",
              "      <td>425000.00</td>\n",
              "      <td>yes</td>\n",
              "    </tr>\n",
              "    <tr>\n",
              "      <th>1220260</th>\n",
              "      <td>9808700025</td>\n",
              "      <td>1500000.00</td>\n",
              "      <td>yes</td>\n",
              "    </tr>\n",
              "  </tbody>\n",
              "</table>\n",
              "<p>7315 rows × 3 columns</p>\n",
              "</div>\n",
              "      <button class=\"colab-df-convert\" onclick=\"convertToInteractive('df-54dd440b-c7b7-47ca-a514-27fde7751187')\"\n",
              "              title=\"Convert this dataframe to an interactive table.\"\n",
              "              style=\"display:none;\">\n",
              "        \n",
              "  <svg xmlns=\"http://www.w3.org/2000/svg\" height=\"24px\"viewBox=\"0 0 24 24\"\n",
              "       width=\"24px\">\n",
              "    <path d=\"M0 0h24v24H0V0z\" fill=\"none\"/>\n",
              "    <path d=\"M18.56 5.44l.94 2.06.94-2.06 2.06-.94-2.06-.94-.94-2.06-.94 2.06-2.06.94zm-11 1L8.5 8.5l.94-2.06 2.06-.94-2.06-.94L8.5 2.5l-.94 2.06-2.06.94zm10 10l.94 2.06.94-2.06 2.06-.94-2.06-.94-.94-2.06-.94 2.06-2.06.94z\"/><path d=\"M17.41 7.96l-1.37-1.37c-.4-.4-.92-.59-1.43-.59-.52 0-1.04.2-1.43.59L10.3 9.45l-7.72 7.72c-.78.78-.78 2.05 0 2.83L4 21.41c.39.39.9.59 1.41.59.51 0 1.02-.2 1.41-.59l7.78-7.78 2.81-2.81c.8-.78.8-2.07 0-2.86zM5.41 20L4 18.59l7.72-7.72 1.47 1.35L5.41 20z\"/>\n",
              "  </svg>\n",
              "      </button>\n",
              "      \n",
              "  <style>\n",
              "    .colab-df-container {\n",
              "      display:flex;\n",
              "      flex-wrap:wrap;\n",
              "      gap: 12px;\n",
              "    }\n",
              "\n",
              "    .colab-df-convert {\n",
              "      background-color: #E8F0FE;\n",
              "      border: none;\n",
              "      border-radius: 50%;\n",
              "      cursor: pointer;\n",
              "      display: none;\n",
              "      fill: #1967D2;\n",
              "      height: 32px;\n",
              "      padding: 0 0 0 0;\n",
              "      width: 32px;\n",
              "    }\n",
              "\n",
              "    .colab-df-convert:hover {\n",
              "      background-color: #E2EBFA;\n",
              "      box-shadow: 0px 1px 2px rgba(60, 64, 67, 0.3), 0px 1px 3px 1px rgba(60, 64, 67, 0.15);\n",
              "      fill: #174EA6;\n",
              "    }\n",
              "\n",
              "    [theme=dark] .colab-df-convert {\n",
              "      background-color: #3B4455;\n",
              "      fill: #D2E3FC;\n",
              "    }\n",
              "\n",
              "    [theme=dark] .colab-df-convert:hover {\n",
              "      background-color: #434B5C;\n",
              "      box-shadow: 0px 1px 3px 1px rgba(0, 0, 0, 0.15);\n",
              "      filter: drop-shadow(0px 1px 2px rgba(0, 0, 0, 0.3));\n",
              "      fill: #FFFFFF;\n",
              "    }\n",
              "  </style>\n",
              "\n",
              "      <script>\n",
              "        const buttonEl =\n",
              "          document.querySelector('#df-54dd440b-c7b7-47ca-a514-27fde7751187 button.colab-df-convert');\n",
              "        buttonEl.style.display =\n",
              "          google.colab.kernel.accessAllowed ? 'block' : 'none';\n",
              "\n",
              "        async function convertToInteractive(key) {\n",
              "          const element = document.querySelector('#df-54dd440b-c7b7-47ca-a514-27fde7751187');\n",
              "          const dataTable =\n",
              "            await google.colab.kernel.invokeFunction('convertToInteractive',\n",
              "                                                     [key], {});\n",
              "          if (!dataTable) return;\n",
              "\n",
              "          const docLinkHtml = 'Like what you see? Visit the ' +\n",
              "            '<a target=\"_blank\" href=https://colab.research.google.com/notebooks/data_table.ipynb>data table notebook</a>'\n",
              "            + ' to learn more about interactive tables.';\n",
              "          element.innerHTML = '';\n",
              "          dataTable['output_type'] = 'display_data';\n",
              "          await google.colab.output.renderOutput(dataTable, element);\n",
              "          const docLink = document.createElement('div');\n",
              "          docLink.innerHTML = docLinkHtml;\n",
              "          element.appendChild(docLink);\n",
              "        }\n",
              "      </script>\n",
              "    </div>\n",
              "  </div>\n",
              "  "
            ],
            "text/plain": [
              "                 id      price  pay\n",
              "4173      620079042  370000.00  yes\n",
              "4407      620079042  370000.00  yes\n",
              "4640       40000362   78000.00  yes\n",
              "4904       40000362   78000.00  yes\n",
              "4915     3028200080   81000.00  yes\n",
              "...             ...        ...  ...\n",
              "1219630  9808700025 1500000.00  yes\n",
              "1219931  2425700022  425000.00  yes\n",
              "1219945  9808700025 1500000.00  yes\n",
              "1220246  2425700022  425000.00  yes\n",
              "1220260  9808700025 1500000.00  yes\n",
              "\n",
              "[7315 rows x 3 columns]"
            ]
          },
          "metadata": {},
          "execution_count": 324
        }
      ]
    },
    {
      "cell_type": "code",
      "source": [
        "# Retirandos IDs duplicados\n",
        "df3 = df3.drop_duplicates(subset = ['id'], keep = 'last')\n",
        "\n",
        "# Casas para serem compradas\n",
        "comprar = df3[ df3['pay'] == 'yes' ]\n",
        "comprar = comprar[['id','price','pay']]\n",
        "print(f'Total de {comprar.shape[0]} imóveis para comprar')\n",
        "comprar"
      ],
      "metadata": {
        "colab": {
          "base_uri": "https://localhost:8080/",
          "height": 442
        },
        "id": "uAxRw6uUDB5t",
        "outputId": "d38b3526-c51f-4856-dad9-6c9dffb9fd2e"
      },
      "execution_count": 325,
      "outputs": [
        {
          "output_type": "stream",
          "name": "stdout",
          "text": [
            "Total de 192 imóveis para comprar\n"
          ]
        },
        {
          "output_type": "execute_result",
          "data": {
            "text/html": [
              "\n",
              "  <div id=\"df-7ad367f2-65ab-464d-89dc-eb9ef040d6c5\">\n",
              "    <div class=\"colab-df-container\">\n",
              "      <div>\n",
              "<style scoped>\n",
              "    .dataframe tbody tr th:only-of-type {\n",
              "        vertical-align: middle;\n",
              "    }\n",
              "\n",
              "    .dataframe tbody tr th {\n",
              "        vertical-align: top;\n",
              "    }\n",
              "\n",
              "    .dataframe thead th {\n",
              "        text-align: right;\n",
              "    }\n",
              "</style>\n",
              "<table border=\"1\" class=\"dataframe\">\n",
              "  <thead>\n",
              "    <tr style=\"text-align: right;\">\n",
              "      <th></th>\n",
              "      <th>id</th>\n",
              "      <th>price</th>\n",
              "      <th>pay</th>\n",
              "    </tr>\n",
              "  </thead>\n",
              "  <tbody>\n",
              "    <tr>\n",
              "      <th>4407</th>\n",
              "      <td>620079042</td>\n",
              "      <td>370000.00</td>\n",
              "      <td>yes</td>\n",
              "    </tr>\n",
              "    <tr>\n",
              "      <th>11072</th>\n",
              "      <td>1623049041</td>\n",
              "      <td>82500.00</td>\n",
              "      <td>yes</td>\n",
              "    </tr>\n",
              "    <tr>\n",
              "      <th>11165</th>\n",
              "      <td>1446401540</td>\n",
              "      <td>243000.00</td>\n",
              "      <td>yes</td>\n",
              "    </tr>\n",
              "    <tr>\n",
              "      <th>11187</th>\n",
              "      <td>1446800181</td>\n",
              "      <td>264950.00</td>\n",
              "      <td>yes</td>\n",
              "    </tr>\n",
              "    <tr>\n",
              "      <th>11195</th>\n",
              "      <td>985001275</td>\n",
              "      <td>250000.00</td>\n",
              "      <td>yes</td>\n",
              "    </tr>\n",
              "    <tr>\n",
              "      <th>...</th>\n",
              "      <td>...</td>\n",
              "      <td>...</td>\n",
              "      <td>...</td>\n",
              "    </tr>\n",
              "    <tr>\n",
              "      <th>1192515</th>\n",
              "      <td>2128000160</td>\n",
              "      <td>429000.00</td>\n",
              "      <td>yes</td>\n",
              "    </tr>\n",
              "    <tr>\n",
              "      <th>1192637</th>\n",
              "      <td>3885808035</td>\n",
              "      <td>619500.00</td>\n",
              "      <td>yes</td>\n",
              "    </tr>\n",
              "    <tr>\n",
              "      <th>1192782</th>\n",
              "      <td>1233100351</td>\n",
              "      <td>305000.00</td>\n",
              "      <td>yes</td>\n",
              "    </tr>\n",
              "    <tr>\n",
              "      <th>1220246</th>\n",
              "      <td>2425700022</td>\n",
              "      <td>425000.00</td>\n",
              "      <td>yes</td>\n",
              "    </tr>\n",
              "    <tr>\n",
              "      <th>1220260</th>\n",
              "      <td>9808700025</td>\n",
              "      <td>1500000.00</td>\n",
              "      <td>yes</td>\n",
              "    </tr>\n",
              "  </tbody>\n",
              "</table>\n",
              "<p>192 rows × 3 columns</p>\n",
              "</div>\n",
              "      <button class=\"colab-df-convert\" onclick=\"convertToInteractive('df-7ad367f2-65ab-464d-89dc-eb9ef040d6c5')\"\n",
              "              title=\"Convert this dataframe to an interactive table.\"\n",
              "              style=\"display:none;\">\n",
              "        \n",
              "  <svg xmlns=\"http://www.w3.org/2000/svg\" height=\"24px\"viewBox=\"0 0 24 24\"\n",
              "       width=\"24px\">\n",
              "    <path d=\"M0 0h24v24H0V0z\" fill=\"none\"/>\n",
              "    <path d=\"M18.56 5.44l.94 2.06.94-2.06 2.06-.94-2.06-.94-.94-2.06-.94 2.06-2.06.94zm-11 1L8.5 8.5l.94-2.06 2.06-.94-2.06-.94L8.5 2.5l-.94 2.06-2.06.94zm10 10l.94 2.06.94-2.06 2.06-.94-2.06-.94-.94-2.06-.94 2.06-2.06.94z\"/><path d=\"M17.41 7.96l-1.37-1.37c-.4-.4-.92-.59-1.43-.59-.52 0-1.04.2-1.43.59L10.3 9.45l-7.72 7.72c-.78.78-.78 2.05 0 2.83L4 21.41c.39.39.9.59 1.41.59.51 0 1.02-.2 1.41-.59l7.78-7.78 2.81-2.81c.8-.78.8-2.07 0-2.86zM5.41 20L4 18.59l7.72-7.72 1.47 1.35L5.41 20z\"/>\n",
              "  </svg>\n",
              "      </button>\n",
              "      \n",
              "  <style>\n",
              "    .colab-df-container {\n",
              "      display:flex;\n",
              "      flex-wrap:wrap;\n",
              "      gap: 12px;\n",
              "    }\n",
              "\n",
              "    .colab-df-convert {\n",
              "      background-color: #E8F0FE;\n",
              "      border: none;\n",
              "      border-radius: 50%;\n",
              "      cursor: pointer;\n",
              "      display: none;\n",
              "      fill: #1967D2;\n",
              "      height: 32px;\n",
              "      padding: 0 0 0 0;\n",
              "      width: 32px;\n",
              "    }\n",
              "\n",
              "    .colab-df-convert:hover {\n",
              "      background-color: #E2EBFA;\n",
              "      box-shadow: 0px 1px 2px rgba(60, 64, 67, 0.3), 0px 1px 3px 1px rgba(60, 64, 67, 0.15);\n",
              "      fill: #174EA6;\n",
              "    }\n",
              "\n",
              "    [theme=dark] .colab-df-convert {\n",
              "      background-color: #3B4455;\n",
              "      fill: #D2E3FC;\n",
              "    }\n",
              "\n",
              "    [theme=dark] .colab-df-convert:hover {\n",
              "      background-color: #434B5C;\n",
              "      box-shadow: 0px 1px 3px 1px rgba(0, 0, 0, 0.15);\n",
              "      filter: drop-shadow(0px 1px 2px rgba(0, 0, 0, 0.3));\n",
              "      fill: #FFFFFF;\n",
              "    }\n",
              "  </style>\n",
              "\n",
              "      <script>\n",
              "        const buttonEl =\n",
              "          document.querySelector('#df-7ad367f2-65ab-464d-89dc-eb9ef040d6c5 button.colab-df-convert');\n",
              "        buttonEl.style.display =\n",
              "          google.colab.kernel.accessAllowed ? 'block' : 'none';\n",
              "\n",
              "        async function convertToInteractive(key) {\n",
              "          const element = document.querySelector('#df-7ad367f2-65ab-464d-89dc-eb9ef040d6c5');\n",
              "          const dataTable =\n",
              "            await google.colab.kernel.invokeFunction('convertToInteractive',\n",
              "                                                     [key], {});\n",
              "          if (!dataTable) return;\n",
              "\n",
              "          const docLinkHtml = 'Like what you see? Visit the ' +\n",
              "            '<a target=\"_blank\" href=https://colab.research.google.com/notebooks/data_table.ipynb>data table notebook</a>'\n",
              "            + ' to learn more about interactive tables.';\n",
              "          element.innerHTML = '';\n",
              "          dataTable['output_type'] = 'display_data';\n",
              "          await google.colab.output.renderOutput(dataTable, element);\n",
              "          const docLink = document.createElement('div');\n",
              "          docLink.innerHTML = docLinkHtml;\n",
              "          element.appendChild(docLink);\n",
              "        }\n",
              "      </script>\n",
              "    </div>\n",
              "  </div>\n",
              "  "
            ],
            "text/plain": [
              "                 id      price  pay\n",
              "4407      620079042  370000.00  yes\n",
              "11072    1623049041   82500.00  yes\n",
              "11165    1446401540  243000.00  yes\n",
              "11187    1446800181  264950.00  yes\n",
              "11195     985001275  250000.00  yes\n",
              "...             ...        ...  ...\n",
              "1192515  2128000160  429000.00  yes\n",
              "1192637  3885808035  619500.00  yes\n",
              "1192782  1233100351  305000.00  yes\n",
              "1220246  2425700022  425000.00  yes\n",
              "1220260  9808700025 1500000.00  yes\n",
              "\n",
              "[192 rows x 3 columns]"
            ]
          },
          "metadata": {},
          "execution_count": 325
        }
      ]
    },
    {
      "cell_type": "code",
      "source": [
        "# Salvando os imoveis para se comprar em um arquivo csv\n",
        "\n",
        "comprar.to_csv(r'/content/drive/MyDrive/Comunidade DS/Python do Zero ao DS/sale.csv',index=False)"
      ],
      "metadata": {
        "id": "VKXut97PEzh3"
      },
      "execution_count": 326,
      "outputs": []
    },
    {
      "cell_type": "markdown",
      "source": [
        "  **2 - Uma vez o imóvel em posse da empresa, qual o melhor momento para vendê-lo e qual seria o preço da venda?**"
      ],
      "metadata": {
        "id": "9g0klP6mpqk1"
      }
    },
    {
      "cell_type": "code",
      "source": [
        "df4 = df3.copy()"
      ],
      "metadata": {
        "id": "UeFtSW2CAW6R"
      },
      "execution_count": 189,
      "outputs": []
    },
    {
      "cell_type": "code",
      "source": [
        "# Filtrando os imóveis com classificação positiva de compra\n",
        "df4 = df4[ df4['pay'] == 'yes' ]\n",
        "\n",
        "# Fazendo o calculo do preço mediano por season\n",
        "df5 = df4[['season','zipcode','price']].groupby(['zipcode','season']).median().reset_index()\n",
        "\n",
        "# Renomeando as colunas price para 'price_media_season e season para 'season_median\n",
        "df5 = df5.rename(columns={'price': 'price_median_season','seasson': 'season_median'})\n",
        "\n",
        "# Adicionando as duas novas colunas 'price_median_season' e 'season_median' a df6\n",
        "df6 = pd.merge(df4, df5, on = 'zipcode', how = 'inner')\n",
        "\n"
      ],
      "metadata": {
        "id": "DwSfjvK4Z_8T"
      },
      "execution_count": 204,
      "outputs": []
    },
    {
      "cell_type": "code",
      "source": [
        "# calculando o preço de venda dos imóveis\n",
        "\n",
        "df6['sale'] = df6.apply( lambda x: x['price'] * 1.1 if x['price_median_season'] > x['price'] else x['price'] * 1.3, axis=1 )"
      ],
      "metadata": {
        "id": "DPzN0-cgarm3"
      },
      "execution_count": 206,
      "outputs": []
    },
    {
      "cell_type": "code",
      "source": [
        "# Preços do imóveis a serem vendidos\n",
        "df6 = df6.rename(columns={'season_y': 'season'} )\n",
        "df6['profit'] = df6['sale'] - df6['price']\n",
        "venda = df6[['id','season','price','sale','profit']]\n",
        "\n",
        "venda.to_csv(r'/content/drive/MyDrive/Comunidade DS/Python do Zero ao DS/sale.csv', index=False)"
      ],
      "metadata": {
        "id": "mY33xQvXdzuO"
      },
      "execution_count": 330,
      "outputs": []
    },
    {
      "cell_type": "markdown",
      "source": [
        "## **5 - Lucro do negócio**"
      ],
      "metadata": {
        "id": "JKji5k6JoHBz"
      }
    },
    {
      "cell_type": "code",
      "source": [
        "df6['profit'] = df6['sale'] - df6['price']\n",
        "df6['profit'].sum()\n",
        "print('Total de ${} de lucro'.format( df6['profit'].sum() ) )"
      ],
      "metadata": {
        "colab": {
          "base_uri": "https://localhost:8080/"
        },
        "id": "CeGJ2g1koJo3",
        "outputId": "1dca9812-f86f-417f-8ed7-83a0bc240e40"
      },
      "execution_count": 224,
      "outputs": [
        {
          "output_type": "stream",
          "name": "stdout",
          "text": [
            "Total de $36891031.8 de lucro\n"
          ]
        }
      ]
    },
    {
      "cell_type": "code",
      "source": [
        ""
      ],
      "metadata": {
        "id": "OH_MhvlKoLPH"
      },
      "execution_count": null,
      "outputs": []
    },
    {
      "cell_type": "markdown",
      "source": [
        "## **6 -  hipóteses e validação das hipóteses**"
      ],
      "metadata": {
        "id": "M2jVTXpdokis"
      }
    },
    {
      "cell_type": "markdown",
      "source": [
        "**H1 - Imóveis com vista para a água são em média 30% mais caros**"
      ],
      "metadata": {
        "id": "ZTugdhcirNMw"
      }
    },
    {
      "cell_type": "code",
      "source": [
        "h1 = df[['price','waterfront']].groupby('waterfront').mean().reset_index()\n",
        "sns.barplot(h1['waterfront'], h1['price']);"
      ],
      "metadata": {
        "colab": {
          "base_uri": "https://localhost:8080/",
          "height": 346
        },
        "id": "OQP9nQOkoqur",
        "outputId": "aa56e666-3bf3-4f74-bb64-69db702b755e"
      },
      "execution_count": 301,
      "outputs": [
        {
          "output_type": "stream",
          "name": "stderr",
          "text": [
            "/usr/local/lib/python3.7/dist-packages/seaborn/_decorators.py:43: FutureWarning: Pass the following variables as keyword args: x, y. From version 0.12, the only valid positional argument will be `data`, and passing other arguments without an explicit keyword will result in an error or misinterpretation.\n",
            "  FutureWarning\n"
          ]
        },
        {
          "output_type": "display_data",
          "data": {
            "image/png": "[encoded data removed]",
            "text/plain": [
              "<Figure size 432x288 with 1 Axes>"
            ]
          },
          "metadata": {
            "needs_background": "light"
          }
        }
      ]
    },
    {
      "cell_type": "markdown",
      "source": [
        "**H2 - Imóveis com data de construção menor que 1955 são em média 50% mais baratos**"
      ],
      "metadata": {
        "id": "vULSdKtGrQr5"
      }
    },
    {
      "cell_type": "code",
      "source": [
        "h2 = df[['price','contruction']].groupby('contruction').mean().reset_index()\n",
        "sns.barplot(h2['contruction'], h2['price']);"
      ],
      "metadata": {
        "colab": {
          "base_uri": "https://localhost:8080/",
          "height": 335
        },
        "id": "7wmOWo6BrUBu",
        "outputId": "11839a50-882a-492e-b41b-a220651c044a"
      },
      "execution_count": 300,
      "outputs": [
        {
          "output_type": "stream",
          "name": "stderr",
          "text": [
            "/usr/local/lib/python3.7/dist-packages/seaborn/_decorators.py:43: FutureWarning: Pass the following variables as keyword args: x, y. From version 0.12, the only valid positional argument will be `data`, and passing other arguments without an explicit keyword will result in an error or misinterpretation.\n",
            "  FutureWarning\n"
          ]
        },
        {
          "output_type": "display_data",
          "data": {
            "image/png": "[encoded data removed]",
            "text/plain": [
              "<Figure size 432x288 with 1 Axes>"
            ]
          },
          "metadata": {
            "needs_background": "light"
          }
        }
      ]
    },
    {
      "cell_type": "markdown",
      "source": [
        "**H3 - Imóveis sem porão com maior área total são 40% maiores**"
      ],
      "metadata": {
        "id": "QwUp_ZGPrXPo"
      }
    },
    {
      "cell_type": "code",
      "source": [
        "h3 = df[['basement','sqft_lot','price']].groupby('basement').sum().reset_index()\n",
        "sns.barplot(h3['basement'], h3['sqft_lot']);"
      ],
      "metadata": {
        "colab": {
          "base_uri": "https://localhost:8080/",
          "height": 346
        },
        "id": "bDlRdfsNraue",
        "outputId": "1af9d4c6-ff44-4a01-f5e9-adb5a2bc748a"
      },
      "execution_count": 299,
      "outputs": [
        {
          "output_type": "stream",
          "name": "stderr",
          "text": [
            "/usr/local/lib/python3.7/dist-packages/seaborn/_decorators.py:43: FutureWarning: Pass the following variables as keyword args: x, y. From version 0.12, the only valid positional argument will be `data`, and passing other arguments without an explicit keyword will result in an error or misinterpretation.\n",
            "  FutureWarning\n"
          ]
        },
        {
          "output_type": "display_data",
          "data": {
            "image/png": "[encoded data removed]",
            "text/plain": [
              "<Figure size 432x288 with 1 Axes>"
            ]
          },
          "metadata": {
            "needs_background": "light"
          }
        }
      ]
    },
    {
      "cell_type": "markdown",
      "source": [
        "**H4 - Imóveis que nunca foram reformados são em média 20% mais baratos**"
      ],
      "metadata": {
        "id": "uE5SQXbirbkp"
      }
    },
    {
      "cell_type": "code",
      "source": [
        "h4 = df[['renovated','price']].groupby('renovated').mean().reset_index()\n",
        "sns.barplot(h4['renovated'], h4['price']);"
      ],
      "metadata": {
        "colab": {
          "base_uri": "https://localhost:8080/",
          "height": 339
        },
        "id": "5a4vHRdl-bQY",
        "outputId": "2cf86ab2-373c-4bd3-d67f-18bef7470c8e"
      },
      "execution_count": 306,
      "outputs": [
        {
          "output_type": "stream",
          "name": "stderr",
          "text": [
            "/usr/local/lib/python3.7/dist-packages/seaborn/_decorators.py:43: FutureWarning: Pass the following variables as keyword args: x, y. From version 0.12, the only valid positional argument will be `data`, and passing other arguments without an explicit keyword will result in an error or misinterpretation.\n",
            "  FutureWarning\n"
          ]
        },
        {
          "output_type": "display_data",
          "data": {
            "image/png": "[encoded data removed]",
            "text/plain": [
              "<Figure size 432x288 with 1 Axes>"
            ]
          },
          "metadata": {
            "needs_background": "light"
          }
        }
      ]
    },
    {
      "cell_type": "markdown",
      "source": [
        "**H5 - Imóveis em más condições, mas com boa vista são 10% mais caros**"
      ],
      "metadata": {
        "id": "cQPv9ShXrjRk"
      }
    },
    {
      "cell_type": "code",
      "source": [
        "h5 = df[df['condition'] == 1]\n",
        "\n",
        "h5 = df[['view','price']].groupby('view').sum().reset_index()\n",
        "sns.barplot(h5['view'], h5['price']);"
      ],
      "metadata": {
        "colab": {
          "base_uri": "https://localhost:8080/",
          "height": 346
        },
        "id": "9i3HrpXZrmiW",
        "outputId": "0e238869-6e07-4153-abb3-aaab372bc6e5"
      },
      "execution_count": 312,
      "outputs": [
        {
          "output_type": "stream",
          "name": "stderr",
          "text": [
            "/usr/local/lib/python3.7/dist-packages/seaborn/_decorators.py:43: FutureWarning: Pass the following variables as keyword args: x, y. From version 0.12, the only valid positional argument will be `data`, and passing other arguments without an explicit keyword will result in an error or misinterpretation.\n",
            "  FutureWarning\n"
          ]
        },
        {
          "output_type": "display_data",
          "data": {
            "image/png": "[encoded data removed]",
            "text/plain": [
              "<Figure size 432x288 with 1 Axes>"
            ]
          },
          "metadata": {
            "needs_background": "light"
          }
        }
      ]
    },
    {
      "cell_type": "code",
      "source": [
        ""
      ],
      "metadata": {
        "id": "39M-2dpVAZlQ"
      },
      "execution_count": null,
      "outputs": []
    }
  ]
}
